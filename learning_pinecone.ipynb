{
  "nbformat": 4,
  "nbformat_minor": 0,
  "metadata": {
    "colab": {
      "provenance": [],
      "authorship_tag": "ABX9TyM4oc2Qfg2i6PALgIahKyPm",
      "include_colab_link": true
    },
    "kernelspec": {
      "name": "python3",
      "display_name": "Python 3"
    },
    "language_info": {
      "name": "python"
    }
  },
  "cells": [
    {
      "cell_type": "markdown",
      "metadata": {
        "id": "view-in-github",
        "colab_type": "text"
      },
      "source": [
        "<a href=\"https://colab.research.google.com/github/ABK007/learning-rag/blob/main/learning_pinecone.ipynb\" target=\"_parent\"><img src=\"https://colab.research.google.com/assets/colab-badge.svg\" alt=\"Open In Colab\"/></a>"
      ]
    },
    {
      "cell_type": "code",
      "execution_count": 1,
      "metadata": {
        "colab": {
          "base_uri": "https://localhost:8080/"
        },
        "id": "UPxdy2zXVNFo",
        "outputId": "93fef1f8-fa52-40dd-daa8-accc7cbf2f29"
      },
      "outputs": [
        {
          "output_type": "stream",
          "name": "stdout",
          "text": [
            "\u001b[?25l   \u001b[90m━━━━━━━━━━━━━━━━━━━━━━━━━━━━━━━━━━━━━━━━\u001b[0m \u001b[32m0.0/427.3 kB\u001b[0m \u001b[31m?\u001b[0m eta \u001b[36m-:--:--\u001b[0m\r\u001b[2K   \u001b[91m━━━━━━━━━━━━━━━━\u001b[0m\u001b[90m╺\u001b[0m\u001b[90m━━━━━━━━━━━━━━━━━━━━━━━\u001b[0m \u001b[32m174.1/427.3 kB\u001b[0m \u001b[31m5.0 MB/s\u001b[0m eta \u001b[36m0:00:01\u001b[0m\r\u001b[2K   \u001b[90m━━━━━━━━━━━━━━━━━━━━━━━━━━━━━━━━━━━━━━━━\u001b[0m \u001b[32m427.3/427.3 kB\u001b[0m \u001b[31m6.9 MB/s\u001b[0m eta \u001b[36m0:00:00\u001b[0m\n",
            "\u001b[?25h\u001b[?25l   \u001b[90m━━━━━━━━━━━━━━━━━━━━━━━━━━━━━━━━━━━━━━━━\u001b[0m \u001b[32m0.0/87.5 kB\u001b[0m \u001b[31m?\u001b[0m eta \u001b[36m-:--:--\u001b[0m\r\u001b[2K   \u001b[90m━━━━━━━━━━━━━━━━━━━━━━━━━━━━━━━━━━━━━━━━\u001b[0m \u001b[32m87.5/87.5 kB\u001b[0m \u001b[31m5.9 MB/s\u001b[0m eta \u001b[36m0:00:00\u001b[0m\n",
            "\u001b[?25h"
          ]
        }
      ],
      "source": [
        "!pip install -Uq pinecone\n"
      ]
    },
    {
      "cell_type": "code",
      "source": [
        "!pip install -Uq pinecone-plugin-assistant"
      ],
      "metadata": {
        "colab": {
          "base_uri": "https://localhost:8080/"
        },
        "id": "vCAo1Yy9VhLP",
        "outputId": "5a87269e-50d4-40ce-cdec-02cd9da37858"
      },
      "execution_count": 2,
      "outputs": [
        {
          "output_type": "stream",
          "name": "stdout",
          "text": [
            "\u001b[?25l   \u001b[90m━━━━━━━━━━━━━━━━━━━━━━━━━━━━━━━━━━━━━━━━\u001b[0m \u001b[32m0.0/231.3 kB\u001b[0m \u001b[31m?\u001b[0m eta \u001b[36m-:--:--\u001b[0m\r\u001b[2K   \u001b[91m━━━━━━━━━━━━━━━━━━━━━━━━━━━━\u001b[0m\u001b[90m╺\u001b[0m\u001b[90m━━━━━━━━━━━\u001b[0m \u001b[32m163.8/231.3 kB\u001b[0m \u001b[31m4.7 MB/s\u001b[0m eta \u001b[36m0:00:01\u001b[0m\r\u001b[2K   \u001b[90m━━━━━━━━━━━━━━━━━━━━━━━━━━━━━━━━━━━━━━━━\u001b[0m \u001b[32m231.3/231.3 kB\u001b[0m \u001b[31m4.7 MB/s\u001b[0m eta \u001b[36m0:00:00\u001b[0m\n",
            "\u001b[?25h"
          ]
        }
      ]
    },
    {
      "cell_type": "code",
      "source": [
        "from pinecone import Pinecone, ServerlessSpec"
      ],
      "metadata": {
        "id": "Q42avYHBW4Ed"
      },
      "execution_count": 9,
      "outputs": []
    },
    {
      "cell_type": "code",
      "source": [
        "from google.colab import userdata\n",
        "api_key = userdata.get('PINECONE_KEY')"
      ],
      "metadata": {
        "id": "njMoRx-TXJMl"
      },
      "execution_count": 10,
      "outputs": []
    },
    {
      "cell_type": "code",
      "source": [
        "pc = Pinecone(api_key=api_key)"
      ],
      "metadata": {
        "id": "SJEFn0trW7x3"
      },
      "execution_count": 11,
      "outputs": []
    },
    {
      "cell_type": "code",
      "source": [
        "assistant = pc.assistant.create_assistant(\n",
        "    assistant_name=\"example2-assistant\",\n",
        "    instructions=\"Answer directly and succinctly. Do not provide any additional information.\", # Description or directive for the assistant to apply to all responses.\n",
        "    timeout=30 # Wait 30 seconds for assistant operation to complete.\n",
        ")"
      ],
      "metadata": {
        "id": "uy4YQEZgXYZu"
      },
      "execution_count": 13,
      "outputs": []
    },
    {
      "cell_type": "code",
      "source": [
        "data = [\n",
        "    {\"id\": \"vec1\", \"text\": \"Apple is a popular fruit known for its sweetness and crisp texture.\"},\n",
        "    {\"id\": \"vec2\", \"text\": \"The tech company Apple is known for its innovative products like the iPhone.\"},\n",
        "    {\"id\": \"vec3\", \"text\": \"Many people enjoy eating apples as a healthy snack.\"},\n",
        "    {\"id\": \"vec4\", \"text\": \"Apple Inc. has revolutionized the tech industry with its sleek designs and user-friendly interfaces.\"},\n",
        "    {\"id\": \"vec5\", \"text\": \"An apple a day keeps the doctor away, as the saying goes.\"},\n",
        "    {\"id\": \"vec6\", \"text\": \"Apple Computer Company was founded on April 1, 1976, by Steve Jobs, Steve Wozniak, and Ronald Wayne as a partnership.\"}\n",
        "]\n",
        "\n",
        "embeddings = pc.inference.embed(\n",
        "    model=\"multilingual-e5-large\",\n",
        "    inputs=[d['text'] for d in data],\n",
        "    parameters={\"input_type\": \"passage\", \"truncate\": \"END\"}\n",
        ")\n",
        "print(embeddings[0])"
      ],
      "metadata": {
        "colab": {
          "base_uri": "https://localhost:8080/"
        },
        "id": "y-7ojIogfbP6",
        "outputId": "b4743f10-2803-4b78-d577-96cbe82a7f78"
      },
      "execution_count": 14,
      "outputs": [
        {
          "output_type": "stream",
          "name": "stdout",
          "text": [
            "{'vector_type': dense, 'values': [0.04913330078125, -0.01306915283203125, ..., -0.0196990966796875, -0.0110321044921875]}\n"
          ]
        }
      ]
    },
    {
      "cell_type": "code",
      "source": [
        "index_name = \"quickstart\"\n",
        "\n",
        "pc.create_index(\n",
        "    name=index_name,\n",
        "    dimension=1024, # Replace with your model dimensions\n",
        "    metric=\"cosine\", # Replace with your model metric\n",
        "    spec=ServerlessSpec(\n",
        "        cloud=\"aws\",\n",
        "        region=\"us-east-1\"\n",
        "    )\n",
        ")"
      ],
      "metadata": {
        "id": "1PEloGIskBJM"
      },
      "execution_count": 15,
      "outputs": []
    },
    {
      "cell_type": "code",
      "source": [
        "# Wait for the index to be ready\n",
        "while not pc.describe_index(index_name).status['ready']:\n",
        "    time.sleep(1)\n",
        "\n",
        "index = pc.Index(index_name)\n",
        "\n",
        "vectors = []\n",
        "for d, e in zip(data, embeddings):\n",
        "    vectors.append({\n",
        "        \"id\": d['id'],\n",
        "        \"values\": e['values'],\n",
        "        \"metadata\": {'text': d['text']}\n",
        "    })\n",
        "\n",
        "index.upsert(\n",
        "    vectors=vectors,\n",
        "    namespace=\"ns1\"\n",
        ")"
      ],
      "metadata": {
        "colab": {
          "base_uri": "https://localhost:8080/"
        },
        "id": "05khxB2wj8lO",
        "outputId": "e7a7a1d9-79d9-403e-b82f-ae6c113018a4"
      },
      "execution_count": 16,
      "outputs": [
        {
          "output_type": "execute_result",
          "data": {
            "text/plain": [
              "{'upserted_count': 6}"
            ]
          },
          "metadata": {},
          "execution_count": 16
        }
      ]
    },
    {
      "cell_type": "code",
      "source": [
        "print(index.describe_index_stats())\n"
      ],
      "metadata": {
        "colab": {
          "base_uri": "https://localhost:8080/"
        },
        "id": "88PyPYDEDfyG",
        "outputId": "ad896faf-1cbd-4d0b-89ae-0396cc677f2c"
      },
      "execution_count": 17,
      "outputs": [
        {
          "output_type": "stream",
          "name": "stdout",
          "text": [
            "{'dimension': 1024,\n",
            " 'index_fullness': 0.0,\n",
            " 'namespaces': {'ns1': {'vector_count': 6}},\n",
            " 'total_vector_count': 6}\n"
          ]
        }
      ]
    },
    {
      "cell_type": "code",
      "source": [
        "query = \"Tell me about the tech company known as Apple.\"\n",
        "\n",
        "embedding = pc.inference.embed(\n",
        "    model=\"multilingual-e5-large\",\n",
        "    inputs=[query],\n",
        "    parameters={\n",
        "        \"input_type\": \"query\"\n",
        "    }\n",
        ")"
      ],
      "metadata": {
        "id": "d3_xohEKDsCt"
      },
      "execution_count": 18,
      "outputs": []
    },
    {
      "cell_type": "code",
      "source": [
        "results = index.query(\n",
        "    namespace=\"ns1\",\n",
        "    vector=embedding[0].values,\n",
        "    top_k=3,\n",
        "    include_values=False,\n",
        "    include_metadata=True\n",
        ")\n",
        "\n",
        "print(results)"
      ],
      "metadata": {
        "colab": {
          "base_uri": "https://localhost:8080/"
        },
        "id": "cZerqey5DvQK",
        "outputId": "752cf6bc-8810-4bb6-c6d6-20dbe1afb1d2"
      },
      "execution_count": 19,
      "outputs": [
        {
          "output_type": "stream",
          "name": "stdout",
          "text": [
            "{'matches': [{'id': 'vec2',\n",
            "              'metadata': {'text': 'The tech company Apple is known for its '\n",
            "                                   'innovative products like the iPhone.'},\n",
            "              'score': 0.872728229,\n",
            "              'values': []},\n",
            "             {'id': 'vec4',\n",
            "              'metadata': {'text': 'Apple Inc. has revolutionized the tech '\n",
            "                                   'industry with its sleek designs and '\n",
            "                                   'user-friendly interfaces.'},\n",
            "              'score': 0.852366745,\n",
            "              'values': []},\n",
            "             {'id': 'vec6',\n",
            "              'metadata': {'text': 'Apple Computer Company was founded on '\n",
            "                                   'April 1, 1976, by Steve Jobs, Steve '\n",
            "                                   'Wozniak, and Ronald Wayne as a '\n",
            "                                   'partnership.'},\n",
            "              'score': 0.850151539,\n",
            "              'values': []}],\n",
            " 'namespace': 'ns1',\n",
            " 'usage': {'read_units': 6}}\n"
          ]
        }
      ]
    },
    {
      "cell_type": "markdown",
      "source": [
        "## what is the diifference between namespace and index ?\n",
        "\n",
        "Okay, let's clarify the difference between a namespace and an index in Pinecone:\n",
        "\n",
        "### Index:\n",
        "\n",
        "Think of an index as the main database or container for your vector data.\n",
        "It defines the fundamental properties for your data, such as the dimensionality of the vectors (e.g., 1024 in the provided code) and the similarity metric used to compare vectors (e.g., \"cosine\").\n",
        "You generally create one index for a specific type of data or application.\n",
        "It's a higher-level organizational unit.\n",
        "\n",
        "### Namespace:\n",
        "\n",
        "A namespace is a partition or subdivision within an index.\n",
        "It allows you to logically group and separate your vectors within the same index.\n",
        "It's useful when you have distinct categories of data that you want to keep separate, while still residing under the umbrella of the same index.\n",
        "It enables you to control the scope of your searches. Queries and other operations (upserts, deletes) are always scoped to a single namespace.\n",
        "This isolation is useful for things like multi-tenancy, isolating different customer's data, or separating A/B test data from production data.\n",
        "By default, all data is upserted to a namespace called \"\" (empty string), which works like the root namespace of an index.\n",
        "\n",
        "### Analogy:\n",
        "\n",
        "Imagine a library:\n",
        "\n",
        "Index: The entire library building.\n",
        "Namespace: Different sections or floors within the library (e.g., fiction, non-fiction, children's books). You might only want to search within a specific section.\n",
        "In the provided code:\n",
        "\n",
        "The line pc.create_index(...) creates the main index called \"quickstart\".\n",
        "The line index.upsert(vectors=vectors, namespace=\"ns1\") stores the data within a namespace called \"ns1\" inside that \"quickstart\" index.\n",
        "The line results = index.query(namespace=\"ns1\", ...) then specifically searches within the \"ns1\" namespace to find the most similar data entries."
      ],
      "metadata": {
        "id": "5CpyDB1_F_1i"
      }
    }
  ]
}